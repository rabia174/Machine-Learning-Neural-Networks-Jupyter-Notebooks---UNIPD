{
 "cells": [
  {
   "cell_type": "markdown",
   "metadata": {},
   "source": [
    "# Characters Classification with Neural Networks\n",
    "\n",
    "In this notebook we are going to use the Neural Networks for image classification. We are going to use the same dataset of the lab on SVM: Kuzushiji-MNIST or K-MNIST for short (https://github.com/rois-codh/kmnist) a dataset of traditional japanese handwritten kana.\n",
    "\n",
    "The dataset labels are the following:\n",
    "\n",
    "| Label | Hiragana Character | Romanji (Pronunciation) |\n",
    "| :-: | :-: | :-: |\n",
    "|   0   | お | o |\n",
    "| 1 | き | ki |\n",
    "| 2 | す | su |\n",
    "| 3 | つ | tsu |\n",
    "| 4 | な | na |\n",
    "| 5 | は | ha |\n",
    "| 6 | ま | ma |\n",
    "| 7 | や | ya |\n",
    "| 8 | れ | re |\n",
    "| 9 | を | wo |"
   ]
  },
  {
   "cell_type": "code",
   "execution_count": 1,
   "metadata": {},
   "outputs": [
    {
     "name": "stdout",
     "output_type": "stream",
     "text": [
      "scikit-learn version:  0.24.1\n"
     ]
    }
   ],
   "source": [
    "#load the required packages and check Scikit-learn version\n",
    "\n",
    "%matplotlib inline  \n",
    "\n",
    "import numpy as np\n",
    "import scipy as sp\n",
    "import matplotlib.pyplot as plt\n",
    "import pandas as pd\n",
    "\n",
    "import sklearn\n",
    "print ('scikit-learn version: ', sklearn.__version__)\n",
    "from sklearn.neural_network import MLPClassifier\n",
    "from sklearn.model_selection import GridSearchCV\n",
    "from sklearn.svm import SVC"
   ]
  },
  {
   "cell_type": "code",
   "execution_count": 2,
   "metadata": {},
   "outputs": [],
   "source": [
    "# helper function to load KMNIST dataset from disk\n",
    "def load_mnist(path, kind='train'):\n",
    "    import os\n",
    "    import gzip\n",
    "    import numpy as np\n",
    "    labels_path = os.path.join(path, 'K%s-labels-idx1-ubyte.gz' % kind)\n",
    "    images_path = os.path.join(path, 'K%s-images-idx3-ubyte.gz' % kind)\n",
    "    with gzip.open(labels_path, 'rb') as lbpath:\n",
    "        labels = np.frombuffer(lbpath.read(), dtype=np.uint8,offset=8)\n",
    "    with gzip.open(images_path, 'rb') as imgpath:\n",
    "        images = np.frombuffer(imgpath.read(), dtype=np.uint8,offset=16).reshape(len(labels), 784)\n",
    "    return images, labels"
   ]
  },
  {
   "cell_type": "markdown",
   "metadata": {},
   "source": [
    "# TODO \n",
    "Set as seed for the random generator your Student ID (you can use your \"numero di matricola\"). Try to change the seed to see the impact of the randomization."
   ]
  },
  {
   "cell_type": "code",
   "execution_count": 3,
   "metadata": {},
   "outputs": [],
   "source": [
    "ID = 2049536\n",
    "np.random.seed(ID)"
   ]
  },
  {
   "cell_type": "code",
   "execution_count": 4,
   "metadata": {},
   "outputs": [
    {
     "name": "stdout",
     "output_type": "stream",
     "text": [
      "Number of samples in the K-MNIST dataset: 60000\n"
     ]
    }
   ],
   "source": [
    "#load the MNIST dataset and let's normalize the features so that each value is in [0,1]\n",
    "X, y = load_mnist(\"data\")\n",
    "print(\"Number of samples in the K-MNIST dataset:\", X.shape[0])\n",
    "# rescale the data\n",
    "X = X / 255.0"
   ]
  },
  {
   "cell_type": "markdown",
   "metadata": {},
   "source": [
    "Now split into training and test. We start with a small training set of 600 samples to reduce computation time while 4000 samples will be used for testing. Make sure that each label is present at least 10 times in train and test set frequencies."
   ]
  },
  {
   "cell_type": "code",
   "execution_count": 5,
   "metadata": {},
   "outputs": [
    {
     "name": "stdout",
     "output_type": "stream",
     "text": [
      "Labels in training dataset:  [0 1 2 3 4 5 6 7 8 9]\n",
      "Frequencies in training dataset:  [70 50 54 56 59 61 73 71 57 49]\n",
      "Labels in test set:  [0 1 2 3 4 5 6 7 8 9]\n",
      "Frequencies in test set:  [70 50 54 56 59 61 73 71 57 49]\n"
     ]
    }
   ],
   "source": [
    "#random permute the data and split into training and test taking the first 600\n",
    "#data samples as training and 4000 as test set\n",
    "permutation = np.random.permutation(X.shape[0])\n",
    "\n",
    "X = X[permutation]\n",
    "y = y[permutation]\n",
    "\n",
    "m_training = 600\n",
    "m_test = 4000\n",
    "\n",
    "X_train, X_test = X[:m_training], X[m_training:m_training+m_test]\n",
    "y_train, y_test = y[:m_training], y[m_training:m_training+m_test]\n",
    "\n",
    "labels, freqs = np.unique(y_train, return_counts=True)\n",
    "print(\"Labels in training dataset: \", labels)\n",
    "print(\"Frequencies in training dataset: \", freqs)\n",
    "\n",
    "labelsT, freqsT = np.unique(y_test, return_counts=True)\n",
    "print(\"Labels in test set: \", labels)\n",
    "print(\"Frequencies in test set: \", freqs)\n"
   ]
  },
  {
   "cell_type": "code",
   "execution_count": 6,
   "metadata": {},
   "outputs": [],
   "source": [
    "#function for plotting a image and printing the corresponding label\n",
    "def plot_input(X_matrix, labels, index):\n",
    "    print(\"INPUT:\")\n",
    "    plt.imshow(\n",
    "        X_matrix[index].reshape(28,28),\n",
    "        cmap          = plt.cm.gray_r,\n",
    "        interpolation = \"nearest\"\n",
    "    )\n",
    "    plt.show()\n",
    "    print(\"LABEL: %i\"%labels[index])\n",
    "    return"
   ]
  },
  {
   "cell_type": "code",
   "execution_count": 7,
   "metadata": {},
   "outputs": [
    {
     "name": "stdout",
     "output_type": "stream",
     "text": [
      "INPUT:\n"
     ]
    },
    {
     "data": {
      "image/png": "[encoded data removed]",
      "text/plain": [
       "<Figure size 432x288 with 1 Axes>"
      ]
     },
     "metadata": {
      "needs_background": "light"
     },
     "output_type": "display_data"
    },
    {
     "name": "stdout",
     "output_type": "stream",
     "text": [
      "LABEL: 4\n",
      "INPUT:\n"
     ]
    },
    {
     "data": {
      "image/png": "[encoded data removed]",
      "text/plain": [
       "<Figure size 432x288 with 1 Axes>"
      ]
     },
     "metadata": {
      "needs_background": "light"
     },
     "output_type": "display_data"
    },
    {
     "name": "stdout",
     "output_type": "stream",
     "text": [
      "LABEL: 3\n",
      "INPUT:\n"
     ]
    },
    {
     "data": {
      "image/png": "[encoded data removed]",
      "text/plain": [
       "<Figure size 432x288 with 1 Axes>"
      ]
     },
     "metadata": {
      "needs_background": "light"
     },
     "output_type": "display_data"
    },
    {
     "name": "stdout",
     "output_type": "stream",
     "text": [
      "LABEL: 5\n"
     ]
    }
   ],
   "source": [
    "#let's try the plotting function\n",
    "plot_input(X_train,y_train,10)\n",
    "plot_input(X_test,y_test,100)\n",
    "plot_input(X_test,y_test,1000)"
   ]
  },
  {
   "cell_type": "markdown",
   "metadata": {},
   "source": [
    "### TO DO 1\n",
    "\n",
    "Now use a feed-forward Neural Network for prediction. Use the multi-layer perceptron classifier, with the following parameters: max_iter=100, alpha=1e-4, solver='sgd', tol=1e-4, learning_rate_init=.1, random_state=ID (this last parameter ensures the run is the same even if you run it more than once). The alpha parameter is the regularization term.\n",
    "\n",
    "Then, using the default activation function, pick four or five architectures to consider, with different numbers of hidden layers and different sizes. It is not necessary to create huge neural networks, you can limit to 3 layers and, for each layer, its maximum size can be of 50. Evaluate the architectures you chose using GridSearchCV with cv=5.\n",
    "\n",
    "You can reduce the number of iterations if the running time is too long on your computer.\n"
   ]
  },
  {
   "cell_type": "code",
   "execution_count": 8,
   "metadata": {},
   "outputs": [
    {
     "name": "stdout",
     "output_type": "stream",
     "text": [
      "RESULTS FOR NN\n",
      "\n",
      "Best parameters set found:\n",
      "{'hidden_layer_sizes': (40,)}\n",
      "Score with best parameters:\n",
      "0.7016666666666667\n",
      "\n",
      "All scores on the grid:\n"
     ]
    },
    {
     "data": {
      "text/html": [
       "<div>\n",
       "<style scoped>\n",
       "    .dataframe tbody tr th:only-of-type {\n",
       "        vertical-align: middle;\n",
       "    }\n",
       "\n",
       "    .dataframe tbody tr th {\n",
       "        vertical-align: top;\n",
       "    }\n",
       "\n",
       "    .dataframe thead th {\n",
       "        text-align: right;\n",
       "    }\n",
       "</style>\n",
       "<table border=\"1\" class=\"dataframe\">\n",
       "  <thead>\n",
       "    <tr style=\"text-align: right;\">\n",
       "      <th></th>\n",
       "      <th>mean_fit_time</th>\n",
       "      <th>std_fit_time</th>\n",
       "      <th>mean_score_time</th>\n",
       "      <th>std_score_time</th>\n",
       "      <th>param_hidden_layer_sizes</th>\n",
       "      <th>params</th>\n",
       "      <th>split0_test_score</th>\n",
       "      <th>split1_test_score</th>\n",
       "      <th>split2_test_score</th>\n",
       "      <th>split3_test_score</th>\n",
       "      <th>split4_test_score</th>\n",
       "      <th>mean_test_score</th>\n",
       "      <th>std_test_score</th>\n",
       "      <th>rank_test_score</th>\n",
       "    </tr>\n",
       "  </thead>\n",
       "  <tbody>\n",
       "    <tr>\n",
       "      <th>0</th>\n",
       "      <td>0.345422</td>\n",
       "      <td>0.062784</td>\n",
       "      <td>0.000455</td>\n",
       "      <td>0.000015</td>\n",
       "      <td>(10,)</td>\n",
       "      <td>{'hidden_layer_sizes': (10,)}</td>\n",
       "      <td>0.583333</td>\n",
       "      <td>0.600000</td>\n",
       "      <td>0.683333</td>\n",
       "      <td>0.525000</td>\n",
       "      <td>0.541667</td>\n",
       "      <td>0.586667</td>\n",
       "      <td>0.055428</td>\n",
       "      <td>5</td>\n",
       "    </tr>\n",
       "    <tr>\n",
       "      <th>1</th>\n",
       "      <td>0.163515</td>\n",
       "      <td>0.005507</td>\n",
       "      <td>0.000498</td>\n",
       "      <td>0.000021</td>\n",
       "      <td>(20,)</td>\n",
       "      <td>{'hidden_layer_sizes': (20,)}</td>\n",
       "      <td>0.733333</td>\n",
       "      <td>0.691667</td>\n",
       "      <td>0.708333</td>\n",
       "      <td>0.675000</td>\n",
       "      <td>0.666667</td>\n",
       "      <td>0.695000</td>\n",
       "      <td>0.023921</td>\n",
       "      <td>2</td>\n",
       "    </tr>\n",
       "    <tr>\n",
       "      <th>2</th>\n",
       "      <td>0.197319</td>\n",
       "      <td>0.002556</td>\n",
       "      <td>0.000527</td>\n",
       "      <td>0.000014</td>\n",
       "      <td>(40,)</td>\n",
       "      <td>{'hidden_layer_sizes': (40,)}</td>\n",
       "      <td>0.741667</td>\n",
       "      <td>0.716667</td>\n",
       "      <td>0.741667</td>\n",
       "      <td>0.691667</td>\n",
       "      <td>0.616667</td>\n",
       "      <td>0.701667</td>\n",
       "      <td>0.046368</td>\n",
       "      <td>1</td>\n",
       "    </tr>\n",
       "    <tr>\n",
       "      <th>3</th>\n",
       "      <td>0.138289</td>\n",
       "      <td>0.007416</td>\n",
       "      <td>0.000505</td>\n",
       "      <td>0.000005</td>\n",
       "      <td>(20, 20)</td>\n",
       "      <td>{'hidden_layer_sizes': (20, 20)}</td>\n",
       "      <td>0.658333</td>\n",
       "      <td>0.650000</td>\n",
       "      <td>0.716667</td>\n",
       "      <td>0.633333</td>\n",
       "      <td>0.633333</td>\n",
       "      <td>0.658333</td>\n",
       "      <td>0.030732</td>\n",
       "      <td>4</td>\n",
       "    </tr>\n",
       "    <tr>\n",
       "      <th>4</th>\n",
       "      <td>0.254812</td>\n",
       "      <td>0.098187</td>\n",
       "      <td>0.000580</td>\n",
       "      <td>0.000022</td>\n",
       "      <td>(40, 20, 10)</td>\n",
       "      <td>{'hidden_layer_sizes': (40, 20, 10)}</td>\n",
       "      <td>0.725000</td>\n",
       "      <td>0.608333</td>\n",
       "      <td>0.700000</td>\n",
       "      <td>0.675000</td>\n",
       "      <td>0.708333</td>\n",
       "      <td>0.683333</td>\n",
       "      <td>0.040825</td>\n",
       "      <td>3</td>\n",
       "    </tr>\n",
       "  </tbody>\n",
       "</table>\n",
       "</div>"
      ],
      "text/plain": [
       "   mean_fit_time  std_fit_time  mean_score_time  std_score_time  \\\n",
       "0       0.345422      0.062784         0.000455        0.000015   \n",
       "1       0.163515      0.005507         0.000498        0.000021   \n",
       "2       0.197319      0.002556         0.000527        0.000014   \n",
       "3       0.138289      0.007416         0.000505        0.000005   \n",
       "4       0.254812      0.098187         0.000580        0.000022   \n",
       "\n",
       "  param_hidden_layer_sizes                                params  \\\n",
       "0                    (10,)         {'hidden_layer_sizes': (10,)}   \n",
       "1                    (20,)         {'hidden_layer_sizes': (20,)}   \n",
       "2                    (40,)         {'hidden_layer_sizes': (40,)}   \n",
       "3                 (20, 20)      {'hidden_layer_sizes': (20, 20)}   \n",
       "4             (40, 20, 10)  {'hidden_layer_sizes': (40, 20, 10)}   \n",
       "\n",
       "   split0_test_score  split1_test_score  split2_test_score  split3_test_score  \\\n",
       "0           0.583333           0.600000           0.683333           0.525000   \n",
       "1           0.733333           0.691667           0.708333           0.675000   \n",
       "2           0.741667           0.716667           0.741667           0.691667   \n",
       "3           0.658333           0.650000           0.716667           0.633333   \n",
       "4           0.725000           0.608333           0.700000           0.675000   \n",
       "\n",
       "   split4_test_score  mean_test_score  std_test_score  rank_test_score  \n",
       "0           0.541667         0.586667        0.055428                5  \n",
       "1           0.666667         0.695000        0.023921                2  \n",
       "2           0.616667         0.701667        0.046368                1  \n",
       "3           0.633333         0.658333        0.030732                4  \n",
       "4           0.708333         0.683333        0.040825                3  "
      ]
     },
     "execution_count": 8,
     "metadata": {},
     "output_type": "execute_result"
    }
   ],
   "source": [
    "# these are sample values but feel free to change them as you like, try to experiment with different sizes!!\n",
    "parameters = {'hidden_layer_sizes': [(10,), (20,), (40,), (20,20,), (40,20,10) ]}\n",
    "\n",
    "mlp = MLPClassifier(max_iter=300, alpha=1e-4, solver='sgd',\n",
    "                    tol=1e-4, random_state=ID,\n",
    "                    learning_rate_init=.1)\n",
    "\n",
    "#ADD YOUR CODE\n",
    "clf = GridSearchCV(mlp, parameters,cv=5)\n",
    "clf.fit(X_train, y_train)\n",
    "\n",
    "print ('RESULTS FOR NN\\n')\n",
    "\n",
    "print(\"Best parameters set found:\")\n",
    "#ADD YOUR CODE\n",
    "print(clf.best_params_)\n",
    "\n",
    "print(\"Score with best parameters:\")\n",
    "#ADD YOUR CODE\n",
    "clf = GridSearchCV(mlp, parameters,refit=True,cv=5)\n",
    "clf.fit(X_train, y_train)\n",
    "print(clf.best_score_)\n",
    "\n",
    "print(\"\\nAll scores on the grid:\")\n",
    "#ADD YOUR CODE\n",
    "all_scores = pd.DataFrame(clf.cv_results_)\n",
    "all_scores"
   ]
  },
  {
   "cell_type": "markdown",
   "metadata": {},
   "source": [
    "### TO DO 2\n",
    "\n",
    "Now try also different batch sizes, while keeping the best NN architecture you have found above. Remember that the batch size was previously set to the default value, i.e., min(200, n_samples). \n",
    "Recall that a batch size of 1 corresponds to baseline SGD, while using all the 480 training samples (there are 600 samples but in cross validation with 5 folders we use 1/5 of them for validation at each round) corresponds to standard GD and using a different mini-batch size lies in the middle between the two extreme cases."
   ]
  },
  {
   "cell_type": "code",
   "execution_count": 9,
   "metadata": {},
   "outputs": [
    {
     "name": "stderr",
     "output_type": "stream",
     "text": [
      "/Users/rabiayapicioglu/opt/anaconda3/lib/python3.8/site-packages/sklearn/neural_network/_multilayer_perceptron.py:614: ConvergenceWarning: Stochastic Optimizer: Maximum iterations (100) reached and the optimization hasn't converged yet.\n",
      "  warnings.warn(\n",
      "/Users/rabiayapicioglu/opt/anaconda3/lib/python3.8/site-packages/sklearn/neural_network/_multilayer_perceptron.py:614: ConvergenceWarning: Stochastic Optimizer: Maximum iterations (100) reached and the optimization hasn't converged yet.\n",
      "  warnings.warn(\n",
      "/Users/rabiayapicioglu/opt/anaconda3/lib/python3.8/site-packages/sklearn/neural_network/_multilayer_perceptron.py:614: ConvergenceWarning: Stochastic Optimizer: Maximum iterations (100) reached and the optimization hasn't converged yet.\n",
      "  warnings.warn(\n",
      "/Users/rabiayapicioglu/opt/anaconda3/lib/python3.8/site-packages/sklearn/neural_network/_multilayer_perceptron.py:614: ConvergenceWarning: Stochastic Optimizer: Maximum iterations (100) reached and the optimization hasn't converged yet.\n",
      "  warnings.warn(\n",
      "/Users/rabiayapicioglu/opt/anaconda3/lib/python3.8/site-packages/sklearn/neural_network/_multilayer_perceptron.py:614: ConvergenceWarning: Stochastic Optimizer: Maximum iterations (100) reached and the optimization hasn't converged yet.\n",
      "  warnings.warn(\n"
     ]
    },
    {
     "name": "stdout",
     "output_type": "stream",
     "text": [
      "RESULTS FOR NN\n",
      "\n",
      "Best parameters set found:\n",
      "{'batch_size': 32}\n",
      "Score with best parameters:\n"
     ]
    },
    {
     "name": "stderr",
     "output_type": "stream",
     "text": [
      "/Users/rabiayapicioglu/opt/anaconda3/lib/python3.8/site-packages/sklearn/neural_network/_multilayer_perceptron.py:614: ConvergenceWarning: Stochastic Optimizer: Maximum iterations (100) reached and the optimization hasn't converged yet.\n",
      "  warnings.warn(\n",
      "/Users/rabiayapicioglu/opt/anaconda3/lib/python3.8/site-packages/sklearn/neural_network/_multilayer_perceptron.py:614: ConvergenceWarning: Stochastic Optimizer: Maximum iterations (100) reached and the optimization hasn't converged yet.\n",
      "  warnings.warn(\n",
      "/Users/rabiayapicioglu/opt/anaconda3/lib/python3.8/site-packages/sklearn/neural_network/_multilayer_perceptron.py:614: ConvergenceWarning: Stochastic Optimizer: Maximum iterations (100) reached and the optimization hasn't converged yet.\n",
      "  warnings.warn(\n",
      "/Users/rabiayapicioglu/opt/anaconda3/lib/python3.8/site-packages/sklearn/neural_network/_multilayer_perceptron.py:614: ConvergenceWarning: Stochastic Optimizer: Maximum iterations (100) reached and the optimization hasn't converged yet.\n",
      "  warnings.warn(\n",
      "/Users/rabiayapicioglu/opt/anaconda3/lib/python3.8/site-packages/sklearn/neural_network/_multilayer_perceptron.py:614: ConvergenceWarning: Stochastic Optimizer: Maximum iterations (100) reached and the optimization hasn't converged yet.\n",
      "  warnings.warn(\n"
     ]
    },
    {
     "name": "stdout",
     "output_type": "stream",
     "text": [
      "0.7350000000000001\n",
      "\n",
      "All scores on the grid:\n"
     ]
    },
    {
     "data": {
      "text/html": [
       "<div>\n",
       "<style scoped>\n",
       "    .dataframe tbody tr th:only-of-type {\n",
       "        vertical-align: middle;\n",
       "    }\n",
       "\n",
       "    .dataframe tbody tr th {\n",
       "        vertical-align: top;\n",
       "    }\n",
       "\n",
       "    .dataframe thead th {\n",
       "        text-align: right;\n",
       "    }\n",
       "</style>\n",
       "<table border=\"1\" class=\"dataframe\">\n",
       "  <thead>\n",
       "    <tr style=\"text-align: right;\">\n",
       "      <th></th>\n",
       "      <th>mean_fit_time</th>\n",
       "      <th>std_fit_time</th>\n",
       "      <th>mean_score_time</th>\n",
       "      <th>std_score_time</th>\n",
       "      <th>param_batch_size</th>\n",
       "      <th>params</th>\n",
       "      <th>split0_test_score</th>\n",
       "      <th>split1_test_score</th>\n",
       "      <th>split2_test_score</th>\n",
       "      <th>split3_test_score</th>\n",
       "      <th>split4_test_score</th>\n",
       "      <th>mean_test_score</th>\n",
       "      <th>std_test_score</th>\n",
       "      <th>rank_test_score</th>\n",
       "    </tr>\n",
       "  </thead>\n",
       "  <tbody>\n",
       "    <tr>\n",
       "      <th>0</th>\n",
       "      <td>17.262656</td>\n",
       "      <td>2.549511</td>\n",
       "      <td>0.001054</td>\n",
       "      <td>0.000236</td>\n",
       "      <td>1</td>\n",
       "      <td>{'batch_size': 1}</td>\n",
       "      <td>0.083333</td>\n",
       "      <td>0.150000</td>\n",
       "      <td>0.075000</td>\n",
       "      <td>0.058333</td>\n",
       "      <td>0.083333</td>\n",
       "      <td>0.090000</td>\n",
       "      <td>0.031358</td>\n",
       "      <td>3</td>\n",
       "    </tr>\n",
       "    <tr>\n",
       "      <th>1</th>\n",
       "      <td>0.379659</td>\n",
       "      <td>0.029927</td>\n",
       "      <td>0.000839</td>\n",
       "      <td>0.000066</td>\n",
       "      <td>32</td>\n",
       "      <td>{'batch_size': 32}</td>\n",
       "      <td>0.783333</td>\n",
       "      <td>0.733333</td>\n",
       "      <td>0.733333</td>\n",
       "      <td>0.808333</td>\n",
       "      <td>0.616667</td>\n",
       "      <td>0.735000</td>\n",
       "      <td>0.065912</td>\n",
       "      <td>1</td>\n",
       "    </tr>\n",
       "    <tr>\n",
       "      <th>2</th>\n",
       "      <td>0.341194</td>\n",
       "      <td>0.010329</td>\n",
       "      <td>0.001350</td>\n",
       "      <td>0.000084</td>\n",
       "      <td>480</td>\n",
       "      <td>{'batch_size': 480}</td>\n",
       "      <td>0.716667</td>\n",
       "      <td>0.700000</td>\n",
       "      <td>0.691667</td>\n",
       "      <td>0.766667</td>\n",
       "      <td>0.583333</td>\n",
       "      <td>0.691667</td>\n",
       "      <td>0.060093</td>\n",
       "      <td>2</td>\n",
       "    </tr>\n",
       "  </tbody>\n",
       "</table>\n",
       "</div>"
      ],
      "text/plain": [
       "   mean_fit_time  std_fit_time  mean_score_time  std_score_time  \\\n",
       "0      17.262656      2.549511         0.001054        0.000236   \n",
       "1       0.379659      0.029927         0.000839        0.000066   \n",
       "2       0.341194      0.010329         0.001350        0.000084   \n",
       "\n",
       "  param_batch_size               params  split0_test_score  split1_test_score  \\\n",
       "0                1    {'batch_size': 1}           0.083333           0.150000   \n",
       "1               32   {'batch_size': 32}           0.783333           0.733333   \n",
       "2              480  {'batch_size': 480}           0.716667           0.700000   \n",
       "\n",
       "   split2_test_score  split3_test_score  split4_test_score  mean_test_score  \\\n",
       "0           0.075000           0.058333           0.083333         0.090000   \n",
       "1           0.733333           0.808333           0.616667         0.735000   \n",
       "2           0.691667           0.766667           0.583333         0.691667   \n",
       "\n",
       "   std_test_score  rank_test_score  \n",
       "0        0.031358                3  \n",
       "1        0.065912                1  \n",
       "2        0.060093                2  "
      ]
     },
     "execution_count": 9,
     "metadata": {},
     "output_type": "execute_result"
    }
   ],
   "source": [
    "# these are sample values corresponding to baseline SGD, a reasonable mini-batch size and standard GD\n",
    "# again feel free to change them as you like, try to experiment with different batch sizes!!\n",
    "parameters = {'batch_size': [1, 32, 480]}\n",
    "\n",
    "# need to specify that you would like to use the standard k-fold split otherwise sklearn create splits of different sizes\n",
    "kf = sklearn.model_selection.KFold(n_splits=5)\n",
    "\n",
    "#ADD YOUR CODE\n",
    "# Best model was consisting of (40,) hidden layer sizes so I go on with it\n",
    "\n",
    "mlp = MLPClassifier(hidden_layer_sizes= (40,), max_iter=100, alpha=1e-4, solver='sgd',\n",
    "                    tol=1e-4, random_state=ID,\n",
    "                    learning_rate_init=.1)\n",
    "\n",
    "#ADD YOUR CODE\n",
    "clf = GridSearchCV(mlp, parameters,cv=kf)\n",
    "clf.fit(X_train, y_train)\n",
    "\n",
    "# recall to use cv=kf to use the k-fold subdivision seen in the lectures\n",
    "\n",
    "#ADD YOUR CODE\n",
    "\n",
    "print ('RESULTS FOR NN\\n')\n",
    "\n",
    "print(\"Best parameters set found:\")\n",
    "#ADD YOUR CODE\n",
    "print(clf.best_params_)\n",
    "\n",
    "print(\"Score with best parameters:\")\n",
    "#ADD YOUR CODE\n",
    "clf = GridSearchCV(mlp, parameters,refit=True,cv=kf)\n",
    "clf.fit(X_train, y_train)\n",
    "print(clf.best_score_)\n",
    "\n",
    "print(\"\\nAll scores on the grid:\")\n",
    "#ADD YOUR CODE\n",
    "all_scores = pd.DataFrame(clf.cv_results_)\n",
    "all_scores"
   ]
  },
  {
   "cell_type": "markdown",
   "metadata": {},
   "source": [
    "### QUESTION 1\n",
    "\n",
    "What do you observe for different architectures and batch sizes? How do the number of layers and their sizes affect the performances? What do you observe for different batch sizes, in particular what happens to the training convergence for different batch sizes (notice that the algorithm could not converge for some batch sizes)?"
   ]
  },
  {
   "cell_type": "markdown",
   "metadata": {},
   "source": [
    "## [ANSWER TO QUESTION 1]\n",
    "\n",
    "Finding the optimum batch size is important to tune accuracy and error score of the neural network. The number of samples each time from the training dataset that is used in the estimate of the error gradient is called the batch size and affects dynamics of the learning algorithm. If we use a larger batch size to train our model we may get computational speedups however, it is well known that too large of a batch size will lead to poor generalization. On the other hand if we use a small batch the we'll get more noise. \n",
    "\n",
    "As for the interpretation of the above table, I get the best performance when I tune neural network as 32, and I get worse performance when I tune the batch size as 1, updating weights after each sample may cause noise which then turns out a poor generalization. \n",
    "\n",
    "Also as for the number of layers and layer sizes, setting too low number of nodes as (10,) may cause underfit model will not be able learn efficiently. According to my experiment above it got the worse score with (10,). Also placing too many hidden layers may cause overfit which leads to poor generalization once again. Setting (40,20,10) also got the rank 3. In my case the layer and layer size structure (40,) got the best rank."
   ]
  },
  {
   "cell_type": "markdown",
   "metadata": {},
   "source": [
    "### TODO 3:\n",
    "\n",
    "Plot the train and test accuracies as a function of the number of learnable parameters in your neural network. Print also the computation time for the various configurations you try (the code for getting the computation time is already provided). You can use 100 iterations (if you get a warning on convergence not reached it is not an issue for this lab)"
   ]
  },
  {
   "cell_type": "code",
   "execution_count": 10,
   "metadata": {},
   "outputs": [
    {
     "name": "stdout",
     "output_type": "stream",
     "text": [
      "Training MLP of size (10,) ...\n"
     ]
    },
    {
     "name": "stderr",
     "output_type": "stream",
     "text": [
      "/Users/rabiayapicioglu/opt/anaconda3/lib/python3.8/site-packages/sklearn/neural_network/_multilayer_perceptron.py:614: ConvergenceWarning: Stochastic Optimizer: Maximum iterations (100) reached and the optimization hasn't converged yet.\n",
      "  warnings.warn(\n"
     ]
    },
    {
     "name": "stdout",
     "output_type": "stream",
     "text": [
      "Done, training time: 0.42 sec\n",
      "\n",
      "Training MLP of size (20,) ...\n",
      "Done, training time: 0.41 sec\n",
      "\n",
      "Training MLP of size (40,) ...\n",
      "Done, training time: 0.45 sec\n",
      "\n",
      "Training MLP of size (20, 20) ...\n",
      "Done, training time: 0.31 sec\n",
      "\n",
      "Training MLP of size (40, 20, 10) ...\n",
      "Done, training time: 0.55 sec\n",
      "\n"
     ]
    },
    {
     "data": {
      "image/png": "[encoded data removed]",
      "text/plain": [
       "<Figure size 1080x360 with 2 Axes>"
      ]
     },
     "metadata": {
      "needs_background": "light"
     },
     "output_type": "display_data"
    }
   ],
   "source": [
    "import time\n",
    "from functools import reduce\n",
    "\n",
    "# Function to compute the number of learnable parameters of a mlp given the size of its hidden layers\n",
    "def param_count(hl_size):\n",
    "    tot = 0\n",
    "    input_size, output_size = X_train.shape[1], len(labels)\n",
    "    tot += (input_size+1)*hl_size[0]\n",
    "    for i in range(1,len(hl_size)):\n",
    "        tot += (hl_size[i-1]+1)*hl_size[i]\n",
    "    tot += (hl_size[-1]+1)*output_size\n",
    "    return tot\n",
    "\n",
    "hl_sizes = [(10,), (20,), (40,), (20,20,), (40,20,10)]\n",
    "hl_labels = [param_count(t) for t in hl_sizes]\n",
    "\n",
    "ti = time.time()\n",
    "train_acc_list, test_acc_list = [], []\n",
    "for hl_size in hl_sizes:\n",
    "    print('Training MLP of size {} ...'.format(hl_size))\n",
    "    mlp = MLPClassifier(hidden_layer_sizes= hl_size, max_iter=100, alpha=1e-4, solver='sgd',\n",
    "                    tol=1e-4, random_state=ID,\n",
    "                    learning_rate_init=.1)\n",
    "    mlp.fit(X_train, y_train)\n",
    "    #ADD YOUR CODE\n",
    "    train_acc_list.append(mlp.score(X_train, y_train))\n",
    "    test_acc_list.append(mlp.score(X_test, y_test))\n",
    "    print('Done, training time: {:.2f} sec\\n'.format(time.time()-ti))\n",
    "    ti = time.time()\n",
    "\n",
    "fig, ax = plt.subplots(1,2, figsize=(15,5))\n",
    "\n",
    "\n",
    "ax[0].plot(train_acc_list)\n",
    "ax[0].set_xlabel('Number of learnable params')\n",
    "ax[0].set_title('Train accuracy')\n",
    "ax[0].set_xticks(np.arange(0,len(hl_labels)))\n",
    "ax[0].set_xticklabels(hl_labels)\n",
    "ax[0].grid(True)\n",
    "\n",
    "ax[1].plot(test_acc_list)\n",
    "ax[1].set_xlabel('Number of learnable params')\n",
    "ax[1].set_title('Test accuracy')\n",
    "ax[1].set_xticks(np.arange(0,len(hl_labels)))\n",
    "ax[1].set_xticklabels(hl_labels)\n",
    "ax[1].grid(True)\n"
   ]
  },
  {
   "cell_type": "markdown",
   "metadata": {},
   "source": [
    "## Question 2:\n",
    "\n",
    "Comment about the training and test accuracies referring to the discussion on underfitting and overfitting we did in the course."
   ]
  },
  {
   "cell_type": "markdown",
   "metadata": {},
   "source": [
    "## [ANSWER TO QUESTION 2]\n",
    "\n",
    "When the training accuracy reach the %100, and the test accuracy reached it's optimum level and started to decrease, it is the sign of overfit. Overfitting means our models started to capture the noise in our data and generalization performance decreases further from that point. Here, in the above graphs that I've computed, on the train accuracy graph we can see that train accuracy reached %100 and never change again after 15910 learnable parameters point in the x-axis. Also, on the test accuracy we can see that test accuracy reached it's maximum optimal rate at 31810 and then started to decrease, therefore the generalization performance decreases. Therefore increasing number of nodes in the hidden layers and layer number is good only up to some optimal point, after this optimal point creating too complex networks for the simple datasets may cause overfitting which then leads to performance downs on it's predictions."
   ]
  },
  {
   "cell_type": "markdown",
   "metadata": {},
   "source": [
    "### TO DO 4\n",
    "\n",
    "Now try also to use different learning rates, while keeping the best NN architecture and batch size you have found above. Plot the learning curves (i.e., the variation of the loss over the steps, you can get it from the loss_curve_ object of sklearn) for the different values of the learning rate. Try to run each training for 100 iterations. "
   ]
  },
  {
   "cell_type": "code",
   "execution_count": 11,
   "metadata": {},
   "outputs": [
    {
     "name": "stdout",
     "output_type": "stream",
     "text": [
      "Training MLP of size (40, 20, 10) ...\n"
     ]
    },
    {
     "name": "stderr",
     "output_type": "stream",
     "text": [
      "/Users/rabiayapicioglu/opt/anaconda3/lib/python3.8/site-packages/sklearn/neural_network/_multilayer_perceptron.py:614: ConvergenceWarning: Stochastic Optimizer: Maximum iterations (100) reached and the optimization hasn't converged yet.\n",
      "  warnings.warn(\n"
     ]
    },
    {
     "name": "stdout",
     "output_type": "stream",
     "text": [
      "Training MLP of size (40, 20, 10) ...\n"
     ]
    },
    {
     "name": "stderr",
     "output_type": "stream",
     "text": [
      "/Users/rabiayapicioglu/opt/anaconda3/lib/python3.8/site-packages/sklearn/neural_network/_multilayer_perceptron.py:614: ConvergenceWarning: Stochastic Optimizer: Maximum iterations (100) reached and the optimization hasn't converged yet.\n",
      "  warnings.warn(\n"
     ]
    },
    {
     "name": "stdout",
     "output_type": "stream",
     "text": [
      "Training MLP of size (40, 20, 10) ...\n",
      "Training MLP of size (40, 20, 10) ...\n"
     ]
    },
    {
     "name": "stderr",
     "output_type": "stream",
     "text": [
      "/Users/rabiayapicioglu/opt/anaconda3/lib/python3.8/site-packages/sklearn/neural_network/_multilayer_perceptron.py:614: ConvergenceWarning: Stochastic Optimizer: Maximum iterations (100) reached and the optimization hasn't converged yet.\n",
      "  warnings.warn(\n",
      "/Users/rabiayapicioglu/opt/anaconda3/lib/python3.8/site-packages/sklearn/neural_network/_multilayer_perceptron.py:614: ConvergenceWarning: Stochastic Optimizer: Maximum iterations (100) reached and the optimization hasn't converged yet.\n",
      "  warnings.warn(\n",
      "/Users/rabiayapicioglu/opt/anaconda3/lib/python3.8/site-packages/sklearn/neural_network/_multilayer_perceptron.py:614: ConvergenceWarning: Stochastic Optimizer: Maximum iterations (100) reached and the optimization hasn't converged yet.\n",
      "  warnings.warn(\n",
      "/Users/rabiayapicioglu/opt/anaconda3/lib/python3.8/site-packages/sklearn/neural_network/_multilayer_perceptron.py:614: ConvergenceWarning: Stochastic Optimizer: Maximum iterations (100) reached and the optimization hasn't converged yet.\n",
      "  warnings.warn(\n",
      "/Users/rabiayapicioglu/opt/anaconda3/lib/python3.8/site-packages/sklearn/neural_network/_multilayer_perceptron.py:614: ConvergenceWarning: Stochastic Optimizer: Maximum iterations (100) reached and the optimization hasn't converged yet.\n",
      "  warnings.warn(\n",
      "/Users/rabiayapicioglu/opt/anaconda3/lib/python3.8/site-packages/sklearn/neural_network/_multilayer_perceptron.py:614: ConvergenceWarning: Stochastic Optimizer: Maximum iterations (100) reached and the optimization hasn't converged yet.\n",
      "  warnings.warn(\n",
      "/Users/rabiayapicioglu/opt/anaconda3/lib/python3.8/site-packages/sklearn/neural_network/_multilayer_perceptron.py:614: ConvergenceWarning: Stochastic Optimizer: Maximum iterations (100) reached and the optimization hasn't converged yet.\n",
      "  warnings.warn(\n",
      "/Users/rabiayapicioglu/opt/anaconda3/lib/python3.8/site-packages/sklearn/neural_network/_multilayer_perceptron.py:614: ConvergenceWarning: Stochastic Optimizer: Maximum iterations (100) reached and the optimization hasn't converged yet.\n",
      "  warnings.warn(\n",
      "/Users/rabiayapicioglu/opt/anaconda3/lib/python3.8/site-packages/sklearn/neural_network/_multilayer_perceptron.py:614: ConvergenceWarning: Stochastic Optimizer: Maximum iterations (100) reached and the optimization hasn't converged yet.\n",
      "  warnings.warn(\n",
      "/Users/rabiayapicioglu/opt/anaconda3/lib/python3.8/site-packages/sklearn/neural_network/_multilayer_perceptron.py:614: ConvergenceWarning: Stochastic Optimizer: Maximum iterations (100) reached and the optimization hasn't converged yet.\n",
      "  warnings.warn(\n"
     ]
    },
    {
     "name": "stdout",
     "output_type": "stream",
     "text": [
      "RESULTS FOR NN\n",
      "\n",
      "Best parameters set found:\n",
      "{'learning_rate_init': 0.002}\n",
      "Score with best parameters:\n",
      "0.7050000000000001\n"
     ]
    },
    {
     "name": "stderr",
     "output_type": "stream",
     "text": [
      "/Users/rabiayapicioglu/opt/anaconda3/lib/python3.8/site-packages/sklearn/neural_network/_multilayer_perceptron.py:614: ConvergenceWarning: Stochastic Optimizer: Maximum iterations (100) reached and the optimization hasn't converged yet.\n",
      "  warnings.warn(\n"
     ]
    },
    {
     "data": {
      "image/png": "[encoded data removed]",
      "text/plain": [
       "<Figure size 432x288 with 1 Axes>"
      ]
     },
     "metadata": {
      "needs_background": "light"
     },
     "output_type": "display_data"
    }
   ],
   "source": [
    "import matplotlib.pyplot as plt\n",
    "import operator\n",
    "import warnings\n",
    "warnings.filterwarnings(\"ignore\", category=DeprecationWarning)\n",
    "\n",
    "lr_list = [0.0002, 0.002, 0.02, 0.2]\n",
    "scores = {}\n",
    "\n",
    "# ADD YOUR CODE,\n",
    "# The best model that I found was the one with (40,) hidden layer sizes and batch_size with 32\n",
    "\n",
    "for lr_rate in lr_list:\n",
    "    print('Training MLP of size {} ...'.format(hl_size))\n",
    "    mlp = MLPClassifier(hidden_layer_sizes= (40,), max_iter=100, alpha=1e-4, solver='sgd',\n",
    "                    tol=1e-4, random_state=ID,\n",
    "                    learning_rate_init=lr_rate, batch_size=32)\n",
    "    mlp.fit(X_train, y_train)\n",
    "    #ADD YOUR CODE\n",
    "    train_acc_list.append(mlp.score(X_train, y_train))\n",
    "    test_acc_list.append(mlp.score(X_test, y_test))\n",
    "    loss_values = mlp.loss_curve_\n",
    "    plt.plot(loss_values)\n",
    "\n",
    "plt.legend([str(0.0002), str(0.002),str(0.02), str(0.2)])\n",
    "plt.ylabel('loss_value')\n",
    "plt.xlabel('iterations')\n",
    "\n",
    "#The best learning rate which converged faster than the others was '0.02', hidden layer size = (40,), and the batch size was = 32\n",
    "# Let's validate the same results we get above and print the best parameters set found\n",
    "kf = sklearn.model_selection.KFold(n_splits=5)\n",
    "parameters = {'learning_rate_init': [0.0002, 0.002, 0.02, 0.2]}\n",
    "mlp = MLPClassifier(hidden_layer_sizes= (40,), max_iter=100, alpha=1e-4, solver='sgd',\n",
    "                    tol=1e-4, random_state=ID,\n",
    "                    batch_size=32)\n",
    "\n",
    "\n",
    "clf = GridSearchCV(mlp, parameters,refit=True,cv=kf)\n",
    "clf.fit(X_train, y_train)\n",
    "\n",
    "print ('RESULTS FOR NN\\n')\n",
    "print(\"Best parameters set found:\")\n",
    "#ADD YOUR CODE\n",
    "print(clf.best_params_)\n",
    "\n",
    "print(\"Score with best parameters:\")\n",
    "#ADD YOUR CODE\n",
    "print(clf.best_score_)"
   ]
  },
  {
   "cell_type": "markdown",
   "metadata": {},
   "source": [
    "### QUESTION 3\n",
    "\n",
    "Comment about the learning curves (i.e. the variation of the loss over the steps). How does the curve changes for different learning rates in terms of stability and speed of convergence ?\n"
   ]
  },
  {
   "cell_type": "markdown",
   "metadata": {},
   "source": [
    "## [ANSWER TO QUESTION 3]\n",
    "\n",
    "According to the loss_value & iterations graph that we computed above, we can see that the learning rate 0.02 converged faster when it compared to the other learning rates that we experimented. The other learning rates such as 0.0002 took longer time to converge when compared to others due to the tiny updates in our network. On the other hand setting high learning rate will result in weight updates that will be too large, and there is a probability to miss optimal minima as we can see in the 0.2 example in the above example."
   ]
  },
  {
   "cell_type": "markdown",
   "metadata": {},
   "source": [
    "### TO DO 5\n",
    "\n",
    "Now get training and test error for a NN with best parameters (architecture, batch size and learning rate) from above. Plot the learning curve also for this case (you can run the training for 500 iterations)."
   ]
  },
  {
   "cell_type": "code",
   "execution_count": 12,
   "metadata": {
    "scrolled": true
   },
   "outputs": [
    {
     "name": "stdout",
     "output_type": "stream",
     "text": [
      "\n",
      "RESULTS FOR BEST NN\n",
      "\n",
      "Training MLP of size (40, 20, 10) ...\n",
      "Best NN training error: 0.000000\n",
      "Best NN test error: 0.272750\n"
     ]
    },
    {
     "data": {
      "text/plain": [
       "Text(0, 0.5, 'Loss Score')"
      ]
     },
     "execution_count": 12,
     "metadata": {},
     "output_type": "execute_result"
    },
    {
     "data": {
      "image/png": "[encoded data removed]",
      "text/plain": [
       "<Figure size 432x288 with 1 Axes>"
      ]
     },
     "metadata": {
      "needs_background": "light"
     },
     "output_type": "display_data"
    }
   ],
   "source": [
    "#get training and test error for the best NN model from CV\n",
    "\n",
    "#ADD YOUR CODE\n",
    "\n",
    "print ('\\nRESULTS FOR BEST NN\\n')\n",
    "\n",
    "train_acc_list, test_acc_list = [], []\n",
    "\n",
    "print('Training MLP of size {} ...'.format(hl_size))\n",
    "mlp = MLPClassifier(hidden_layer_sizes= (40,), max_iter=500, alpha=1e-4, solver='sgd',\n",
    "                    tol=1e-4, random_state=ID,\n",
    "                    learning_rate_init=0.002, batch_size=32)\n",
    "mlp.fit(X_train, y_train)\n",
    "\n",
    "train_acc = mlp.score(X_train, y_train)\n",
    "test_acc = mlp.score(X_test, y_test)\n",
    "\n",
    "loss_values = mlp.loss_curve_\n",
    "plt.plot(loss_values)\n",
    "\n",
    "training_error = 1 - np.max(train_acc)\n",
    "print (\"Best NN training error: %f\" % training_error)\n",
    "\n",
    "test_error = 1 - np.max(test_acc)\n",
    "print (\"Best NN test error: %f\" % test_error)\n",
    "\n",
    "plt.xlabel('Iterations')\n",
    "plt.ylabel('Loss Score')\n"
   ]
  },
  {
   "cell_type": "markdown",
   "metadata": {},
   "source": [
    "## More data \n",
    "Now let's do the same but using 4000 (or less if it takes too long on your machine) data points for training. Use the same NN architecture as before, but you can try more if you like and have a powerful computer!!"
   ]
  },
  {
   "cell_type": "code",
   "execution_count": 13,
   "metadata": {},
   "outputs": [
    {
     "name": "stdout",
     "output_type": "stream",
     "text": [
      "Labels in training dataset:  [0 1 2 3 4 5 6 7 8 9]\n",
      "Frequencies in training dataset:  [373 429 392 380 411 407 415 420 386 387]\n"
     ]
    }
   ],
   "source": [
    "X = X[permutation]\n",
    "y = y[permutation]\n",
    "\n",
    "m_training = 4000\n",
    "\n",
    "X_train, X_test = X[:m_training], X[m_training:]\n",
    "y_train, y_test = y[:m_training], y[m_training:]\n",
    "\n",
    "labels, freqs = np.unique(y_train, return_counts=True)\n",
    "print(\"Labels in training dataset: \", labels)\n",
    "print(\"Frequencies in training dataset: \", freqs)"
   ]
  },
  {
   "cell_type": "markdown",
   "metadata": {},
   "source": [
    "### TO DO 6\n",
    "\n",
    "Now train the NNs with the added data points using the optimum parameters found above. Eventually, feel free to try different architectures if you like. We suggest that you use 'verbose=True' so have an idea of how long it takes to run 1 iteration (eventually reduce also the number of iterations to 50)."
   ]
  },
  {
   "cell_type": "code",
   "execution_count": 14,
   "metadata": {},
   "outputs": [
    {
     "name": "stdout",
     "output_type": "stream",
     "text": [
      "Training MLP of size (40, 20, 10) ...\n",
      "Iteration 1, loss = 1.72682963\n",
      "Iteration 2, loss = 1.09911671\n",
      "Iteration 3, loss = 0.87273445\n",
      "Iteration 4, loss = 0.75395202\n",
      "Iteration 5, loss = 0.67714544\n",
      "Iteration 6, loss = 0.62054491\n",
      "Iteration 7, loss = 0.58018195\n",
      "Iteration 8, loss = 0.54560033\n",
      "Iteration 9, loss = 0.51698875\n",
      "Iteration 10, loss = 0.49249113\n",
      "Iteration 11, loss = 0.46962083\n",
      "Iteration 12, loss = 0.44934921\n",
      "Iteration 13, loss = 0.43122749\n",
      "Iteration 14, loss = 0.41354929\n",
      "Iteration 15, loss = 0.39654102\n",
      "Iteration 16, loss = 0.38430975\n",
      "Iteration 17, loss = 0.37061880\n",
      "Iteration 18, loss = 0.35747324\n",
      "Iteration 19, loss = 0.34622303\n",
      "Iteration 20, loss = 0.33430287\n",
      "Iteration 21, loss = 0.32305463\n",
      "Iteration 22, loss = 0.31213218\n",
      "Iteration 23, loss = 0.30137951\n",
      "Iteration 24, loss = 0.29121724\n",
      "Iteration 25, loss = 0.28333456\n",
      "Iteration 26, loss = 0.27306843\n",
      "Iteration 27, loss = 0.26601262\n",
      "Iteration 28, loss = 0.25730923\n",
      "Iteration 29, loss = 0.25031462\n",
      "Iteration 30, loss = 0.24142144\n",
      "Iteration 31, loss = 0.23495207\n",
      "Iteration 32, loss = 0.22706215\n",
      "Iteration 33, loss = 0.22029346\n",
      "Iteration 34, loss = 0.21374070\n",
      "Iteration 35, loss = 0.20911065\n",
      "Iteration 36, loss = 0.20113970\n",
      "Iteration 37, loss = 0.19559747\n",
      "Iteration 38, loss = 0.18959164\n",
      "Iteration 39, loss = 0.18442040\n",
      "Iteration 40, loss = 0.18028902\n",
      "Iteration 41, loss = 0.17416846\n",
      "Iteration 42, loss = 0.17035664\n",
      "Iteration 43, loss = 0.16424635\n",
      "Iteration 44, loss = 0.16099575\n",
      "Iteration 45, loss = 0.15514923\n",
      "Iteration 46, loss = 0.15106574\n",
      "Iteration 47, loss = 0.14612703\n",
      "Iteration 48, loss = 0.14270525\n",
      "Iteration 49, loss = 0.13845616\n",
      "Iteration 50, loss = 0.13438298\n"
     ]
    },
    {
     "name": "stderr",
     "output_type": "stream",
     "text": [
      "/Users/rabiayapicioglu/opt/anaconda3/lib/python3.8/site-packages/sklearn/neural_network/_multilayer_perceptron.py:614: ConvergenceWarning: Stochastic Optimizer: Maximum iterations (50) reached and the optimization hasn't converged yet.\n",
      "  warnings.warn(\n"
     ]
    },
    {
     "name": "stdout",
     "output_type": "stream",
     "text": [
      "Best NN training error: 0.020750\n",
      "Best NN test error: 0.158232\n"
     ]
    },
    {
     "data": {
      "text/plain": [
       "Text(0, 0.5, 'Loss Score')"
      ]
     },
     "execution_count": 14,
     "metadata": {},
     "output_type": "execute_result"
    },
    {
     "data": {
      "image/png": "[encoded data removed]",
      "text/plain": [
       "<Figure size 432x288 with 1 Axes>"
      ]
     },
     "metadata": {
      "needs_background": "light"
     },
     "output_type": "display_data"
    }
   ],
   "source": [
    "# use best architecture and params from before\n",
    "\n",
    "#ADD YOUR CODE\n",
    "\n",
    "train_acc_list, test_acc_list = [], []\n",
    "\n",
    "print('Training MLP of size {} ...'.format(hl_size))\n",
    "mlp = MLPClassifier(hidden_layer_sizes= (40,), max_iter=50, alpha=1e-4, solver='sgd',\n",
    "                    tol=1e-4, random_state=ID,\n",
    "                    learning_rate_init=0.002, batch_size=32, verbose=True)\n",
    "mlp.fit(X_train, y_train)\n",
    "#ADD YOUR CODE\n",
    "train_acc = mlp.score(X_train, y_train)\n",
    "test_acc = mlp.score(X_test, y_test)\n",
    "\n",
    "loss_values = mlp.loss_curve_\n",
    "plt.plot(loss_values)\n",
    "\n",
    "training_error = 1 - np.max(train_acc)\n",
    "print (\"Best NN training error: %f\" % training_error)\n",
    "\n",
    "test_error = 1 - np.max(test_acc)\n",
    "print (\"Best NN test error: %f\" % test_error)\n",
    "\n",
    "plt.xlabel('Iterations')\n",
    "plt.ylabel('Loss Score')\n"
   ]
  },
  {
   "cell_type": "markdown",
   "metadata": {},
   "source": [
    "## QUESTION 4\n",
    "Compare the train and test error you got with a large number of samples with the best one you obtained with only 600 data points. Comment about the results you obtained."
   ]
  },
  {
   "cell_type": "markdown",
   "metadata": {},
   "source": [
    "#### [ANSWER TO QUESTION 4]\n",
    "\n",
    "Results for the 600 data points,\n",
    "\n",
    "Best NN training error: 0.000000 &\n",
    "Best NN test error: 0.272750\n",
    "\n",
    "Results for the 4000 data points,\n",
    "\n",
    "Best NN training error: 0.020750 &\n",
    "Best NN test error: 0.158232\n",
    "\n",
    "We can obviously see that the test error for the 4000 data points is better than the 600 data points, including more and different data samples provides better generalization performance to the models that we have created. The better generalization means the better predictive performance when the model encounters with the out of sample data that we didn't train with."
   ]
  },
  {
   "cell_type": "markdown",
   "metadata": {},
   "source": [
    "### TO DO 7\n",
    "\n",
    "Plot an example that was missclassified by NN with m=600 training data points and it is now instead correctly classified by NN with m=4000 training data points."
   ]
  },
  {
   "cell_type": "code",
   "execution_count": 15,
   "metadata": {},
   "outputs": [
    {
     "name": "stdout",
     "output_type": "stream",
     "text": [
      "Number of samples in the K-MNIST dataset: 60000\n",
      "(4000, 784) (4000,)\n"
     ]
    },
    {
     "name": "stderr",
     "output_type": "stream",
     "text": [
      "/Users/rabiayapicioglu/opt/anaconda3/lib/python3.8/site-packages/sklearn/neural_network/_multilayer_perceptron.py:614: ConvergenceWarning: Stochastic Optimizer: Maximum iterations (100) reached and the optimization hasn't converged yet.\n",
      "  warnings.warn(\n",
      "/Users/rabiayapicioglu/opt/anaconda3/lib/python3.8/site-packages/sklearn/neural_network/_multilayer_perceptron.py:614: ConvergenceWarning: Stochastic Optimizer: Maximum iterations (100) reached and the optimization hasn't converged yet.\n",
      "  warnings.warn(\n"
     ]
    },
    {
     "data": {
      "image/png": "[encoded data removed]",
      "text/plain": [
       "<Figure size 432x288 with 1 Axes>"
      ]
     },
     "metadata": {
      "needs_background": "light"
     },
     "output_type": "display_data"
    },
    {
     "name": "stdout",
     "output_type": "stream",
     "text": [
      "RESULTS:\n",
      "\n",
      "MLP_600:  [2] true label:  5\n",
      "MLP_4000:  [5] true label:  5\n"
     ]
    }
   ],
   "source": [
    "# NOW I'LL EXPERIMENT THE NEURAL NETWORK WITH 600 TRAINING POINTS\n",
    "\n",
    "# Adding my code for the small neural network\n",
    "X, y = load_mnist(\"data\")\n",
    "print(\"Number of samples in the K-MNIST dataset:\", X.shape[0])\n",
    "# rescale the data\n",
    "X = X / 255.0\n",
    "\n",
    "permutation = np.random.permutation(X.shape[0])\n",
    "\n",
    "X = X[permutation]\n",
    "y = y[permutation]\n",
    "\n",
    "m_training = 600\n",
    "m_test = 4000\n",
    "\n",
    "X_train, X_test = X[:m_training], X[m_training:m_training+m_test]\n",
    "y_train, y_test = y[:m_training], y[m_training:m_training+m_test]\n",
    "\n",
    "print(X_test.shape,y_test.shape)\n",
    "sample_index = 500\n",
    "\n",
    "X = X_test[sample_index,:].reshape(-1,1)\n",
    "X = X.reshape(1,784)\n",
    "\n",
    "\n",
    "mlp_600 = MLPClassifier(hidden_layer_sizes= (40,), max_iter=100, alpha=1e-4, solver='sgd',\n",
    "                    tol=1e-4, random_state=ID,\n",
    "                    learning_rate_init=0.002, batch_size=32)\n",
    "\n",
    "mlp_600.fit(X_train, y_train)\n",
    "\n",
    "NN_prediction =  mlp_600.predict(X)\n",
    "\n",
    "# NOW I'LL EXPERIMENT THE NEURAL NETWORK WITH 4000 TRAINING POINTS\n",
    "\n",
    "# Adding my code for the small neural network\n",
    "X, y = load_mnist(\"data\")\n",
    "# rescale the data\n",
    "X = X / 255.0\n",
    "\n",
    "permutation = np.random.permutation(X.shape[0])\n",
    "\n",
    "X = X[permutation]\n",
    "y = y[permutation]\n",
    "\n",
    "m_training = 4000\n",
    "m_test = 4000\n",
    "\n",
    "X_train, X_test = X[:m_training], X[m_training:m_training+m_test]\n",
    "y_train, y_test = y[:m_training], y[m_training:m_training+m_test]\n",
    "\n",
    "\n",
    "sample_index = 100\n",
    "\n",
    "X = X_test[sample_index,:].reshape(-1,1)\n",
    "X = X.reshape(1,784)\n",
    "\n",
    "\n",
    "mlp_4000 = MLPClassifier(hidden_layer_sizes= (40,), max_iter=100, alpha=1e-4, solver='sgd',\n",
    "                    tol=1e-4, random_state=ID,\n",
    "                    learning_rate_init=0.002, batch_size=32)\n",
    "\n",
    "mlp_4000.fit(X_train, y_train)\n",
    "\n",
    "\n",
    "large_NN_prediction = mlp_4000.predict(X)\n",
    "\n",
    "plt.imshow( X.reshape(28,28), cmap = plt.cm.gray_r, interpolation = \"nearest\")\n",
    "plt.show()\n",
    "\n",
    "print(\"RESULTS:\\n\")\n",
    "print('MLP_600: ', NN_prediction, 'true label: ', y_test[sample_index])\n",
    "print('MLP_4000: ', large_NN_prediction, 'true label: ', y_test[sample_index])\n",
    "\n",
    "\n",
    "#ADD YOUR CODE\n",
    "        "
   ]
  },
  {
   "cell_type": "markdown",
   "metadata": {},
   "source": [
    "### TO DO 8\n",
    "\n",
    "Let's plot the weigths of the multi-layer perceptron classifier, for the best NN we get with 600 data points and with 4000 data points. The code is already provided, just fix variable names (e.g., replace mlp , mlp_large with your estimators) in order to have it working with your implementation\n",
    "\n"
   ]
  },
  {
   "cell_type": "code",
   "execution_count": 16,
   "metadata": {},
   "outputs": [
    {
     "name": "stdout",
     "output_type": "stream",
     "text": [
      "Weights with 600 data points:\n"
     ]
    },
    {
     "data": {
      "image/png": "[encoded data removed]",
      "text/plain": [
       "<Figure size 432x288 with 16 Axes>"
      ]
     },
     "metadata": {},
     "output_type": "display_data"
    },
    {
     "name": "stdout",
     "output_type": "stream",
     "text": [
      "Weights with 4000 data points:\n"
     ]
    },
    {
     "data": {
      "image/png": "[encoded data removed]",
      "text/plain": [
       "<Figure size 432x288 with 16 Axes>"
      ]
     },
     "metadata": {},
     "output_type": "display_data"
    }
   ],
   "source": [
    "print(\"Weights with 600 data points:\")\n",
    "\n",
    "fig, axes = plt.subplots(4, 4)\n",
    "vmin, vmax = mlp_600.coefs_[0].min(), mlp_600.coefs_[0].max()\n",
    "for coef, ax in zip(mlp_600.coefs_[0].T, axes.ravel()):\n",
    "    ax.matshow(coef.reshape(28, 28), cmap=plt.cm.gray, vmin=.5 * vmin,\n",
    "               vmax=.5 * vmax)\n",
    "    ax.set_xticks(())\n",
    "    ax.set_yticks(())\n",
    "\n",
    "plt.show()\n",
    "\n",
    "print(\"Weights with 4000 data points:\")\n",
    "\n",
    "fig, axes = plt.subplots(4, 4)\n",
    "vmin, vmax = mlp_4000.coefs_[0].min(), mlp_4000.coefs_[0].max()\n",
    "for coef, ax in zip(mlp_4000.coefs_[0].T, axes.ravel()):\n",
    "    ax.matshow(coef.reshape(28, 28), cmap=plt.cm.gray, vmin=.5 * vmin,\n",
    "               vmax=.5 * vmax)\n",
    "    ax.set_xticks(())\n",
    "    ax.set_yticks(())\n",
    "plt.show()"
   ]
  },
  {
   "cell_type": "markdown",
   "metadata": {},
   "source": [
    "## QUESTION 5\n",
    "\n",
    "Describe what do you observe by looking at the weights."
   ]
  },
  {
   "cell_type": "markdown",
   "metadata": {},
   "source": [
    "##### [ANSWER TO QUESTION 5]\n",
    "\n",
    "The weights that we visualized above can show us that they are learning some spatial structures. This could be an easy to check that our neurons are learning, a step towards understanding our neuron’s behavior. We can observe that the weight visualization map with the 4000 data points created nicer spatial structures than the data samples with 400 one.\n",
    "\n"
   ]
  },
  {
   "cell_type": "markdown",
   "metadata": {},
   "source": [
    "### TO DO 9\n",
    "\n",
    "Take the best SVM model and its parameters, you found in the last notebook. Fit it on a few data points and compute its training and test scores. Then fit also a logistic regression model with C=1. "
   ]
  },
  {
   "cell_type": "code",
   "execution_count": 17,
   "metadata": {},
   "outputs": [
    {
     "name": "stdout",
     "output_type": "stream",
     "text": [
      "Number of samples in the K-MNIST dataset: 60000\n",
      "RESULTS FOR SVM\n",
      "Training score SVM:\n",
      "0.0\n",
      "Test score SVM:\n",
      "0.08279999999999998\n"
     ]
    }
   ],
   "source": [
    "from sklearn.svm import SVC\n",
    "\n",
    "X, y = load_mnist(\"data\")\n",
    "print(\"Number of samples in the K-MNIST dataset:\", X.shape[0])\n",
    "# rescale the data\n",
    "X = X / 255.0\n",
    "\n",
    "permutation = np.random.permutation(X.shape[0])\n",
    "\n",
    "X = X[permutation]\n",
    "y = y[permutation]\n",
    "\n",
    "m_training = 5000\n",
    "\n",
    "X_train, X_test = X[:m_training], X[m_training:2*m_training]\n",
    "y_train, y_test = y[:m_training], y[m_training:2*m_training]\n",
    "\n",
    "# use best parameters found in the SVM notebook, create SVM and perform fitting\n",
    "\n",
    "best_SVM = SVC( kernel='rbf', degree=3, C=10, gamma=0.01)\n",
    "best_SVM.fit(X_train,y_train)\n",
    "\n",
    "# My best SVM model was the one with gamma , 0.01, c = 10 and degree = 3 with 'rbf' kernel, so defining it as follows\n",
    "#ADD YOUR CODE\n",
    "\n",
    "print ('RESULTS FOR SVM')\n",
    "\n",
    "SVM_training_error =  1 - best_SVM.score(X_train, y_train)\n",
    "\n",
    "print(\"Training score SVM:\")\n",
    "print(SVM_training_error)\n",
    "\n",
    "SVM_test_error = 1 - best_SVM.score(X_test, y_test)\n",
    "print(\"Test score SVM:\")\n",
    "print(SVM_test_error)"
   ]
  },
  {
   "cell_type": "code",
   "execution_count": 18,
   "metadata": {},
   "outputs": [
    {
     "name": "stdout",
     "output_type": "stream",
     "text": [
      "\n",
      "RESULTS FOR LOGISTIC REGRESSION WITH REGULARIZATION\n",
      "Training error (reg): 0.027200\n",
      "Test error (reg): 0.245000\n"
     ]
    }
   ],
   "source": [
    "from sklearn import linear_model\n",
    "\n",
    "# We use C=1 for regularization again here\n",
    "regL2 = linear_model.LogisticRegression( random_state=0, C=1, max_iter=500 ).fit(X_train, y_train)\n",
    "\n",
    "# you can re-use your code from Lab 2\n",
    "\n",
    "#ADD YOUR CODE\n",
    "\n",
    "print ('\\nRESULTS FOR LOGISTIC REGRESSION WITH REGULARIZATION')\n",
    "\n",
    "training_error =  1- regL2.score(X_train,y_train)\n",
    "test_error =  1 - regL2.score(X_test, y_test)\n",
    "\n",
    "print (\"Training error (reg): %f\" % training_error)\n",
    "print (\"Test error (reg): %f\" % test_error)"
   ]
  },
  {
   "cell_type": "markdown",
   "metadata": {},
   "source": [
    "## QUESTION 6\n",
    "Compare the results of Logistic Regression, SVM and NN. Which one achieve the best results? "
   ]
  },
  {
   "cell_type": "markdown",
   "metadata": {},
   "source": [
    "###### [ANSWER TO QUESTION 6]\n",
    "\n",
    "RESULTS FOR NN\n",
    "Best NN training error: 0.020750 & Best NN test error: 0.158232\n",
    "\n",
    "\n",
    "RESULTS FOR SVM\n",
    "Training score SVM: 0.0 & Test score SVM: 0.0827999999999999\n",
    "\n",
    "RESULTS FOR LOGISTIC REGRESSION WITH REGULARIZATION\n",
    "Training error (reg): 0.027200 & Test error (reg): 0.245000\n",
    "\n",
    "As we can observe from the above results. In my case with this dataset SVM produced and result in with better test error and accuracy rates than the others. Neural Network has shown better performance than the Logistic Regression with regularization. But in different datasets this results may change, and more adjustable neural networks may show better performance than the other models that we created above, we need to test and compare in order to make a correct decision."
   ]
  },
  {
   "cell_type": "code",
   "execution_count": null,
   "metadata": {},
   "outputs": [],
   "source": []
  }
 ],
 "metadata": {
  "kernelspec": {
   "display_name": "Python 3",
   "language": "python",
   "name": "python3"
  },
  "language_info": {
   "codemirror_mode": {
    "name": "ipython",
    "version": 3
   },
   "file_extension": ".py",
   "mimetype": "text/x-python",
   "name": "python",
   "nbconvert_exporter": "python",
   "pygments_lexer": "ipython3",
   "version": "3.8.8"
  }
 },
 "nbformat": 4,
 "nbformat_minor": 4
}
